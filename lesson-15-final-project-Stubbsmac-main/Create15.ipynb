{
    "metadata": {
        "kernelspec": {
            "name": "SQL",
            "display_name": "SQL",
            "language": "sql"
        },
        "language_info": {
            "name": "sql",
            "version": ""
        }
    },
    "nbformat_minor": 2,
    "nbformat": 4,
    "cells": [
        {
            "cell_type": "markdown",
            "source": [
                "# **CIS 250 Final Project**"
            ],
            "metadata": {
                "azdata_cell_guid": "dcf00a7a-dd32-44bd-bbb3-991349efe5ec"
            },
            "attachments": {}
        },
        {
            "cell_type": "markdown",
            "source": [
                "## **General setup of the tables on the database.**"
            ],
            "metadata": {
                "azdata_cell_guid": "0f53d9be-55c6-4f70-b216-3a66afe6f9e2"
            },
            "attachments": {}
        },
        {
            "cell_type": "code",
            "source": [
                "--attendees table\r\n",
                "CREATE TABLE fp_attendees (\r\n",
                "    atendeeID INT IDENTITY(1,1) PRIMARY KEY,\r\n",
                "    firstName VARCHAR(100) NOT NULL,\r\n",
                "    lastName VARCHAR(100) NOT NULL,\r\n",
                "    email VARCHAR(255) UNIQUE NOT NULL,\r\n",
                "    phone VARCHAR(15) UNIQUE NOT NULL,\r\n",
                "    address TEXT NOT NULL,\r\n",
                "    registrationDate DATE NOT NULL,\r\n",
                "    company VARCHAR(255),\r\n",
                "    jobTitle VARCHAR(255),\r\n",
                "    ticketType VARCHAR(20) CHECK (ticketType IN ('General', 'VIP', 'Student')) NOT NULL\r\n",
                ");\r\n",
                "\r\n",
                "--speakers table\r\n",
                "CREATE TABLE fp_speakers (\r\n",
                "    speakerID INT IDENTITY(1,1) PRIMARY KEY,\r\n",
                "    firstName VARCHAR(100) NOT NULL,\r\n",
                "    lastName VARCHAR(100) NOT NULL,\r\n",
                "    email VARCHAR(255) UNIQUE NOT NULL,\r\n",
                "    phone VARCHAR(15) UNIQUE NOT NULL,\r\n",
                "    jobTitle VARCHAR(255),\r\n",
                "    company VARCHAR(255)\r\n",
                ");\r\n",
                "\r\n",
                "--rooms table\r\n",
                "CREATE TABLE fp_rooms (\r\n",
                "    roomID INT IDENTITY(1,1) PRIMARY KEY,\r\n",
                "    roomNumber VARCHAR(10) NOT NULL,\r\n",
                "    capacity INT NOT NULL\r\n",
                ");\r\n",
                "\r\n",
                "--topics table\r\n",
                "CREATE TABLE fp_topics (\r\n",
                "    topicID INT IDENTITY(1,1) PRIMARY KEY,\r\n",
                "    name VARCHAR(255) NOT NULL\r\n",
                ");\r\n",
                "\r\n",
                "--sessions table\r\n",
                "CREATE TABLE fp_sessions (\r\n",
                "    sessionID INT IDENTITY(1,1) PRIMARY KEY,\r\n",
                "    title VARCHAR(255) UNIQUE NOT NULL,\r\n",
                "    description TEXT NOT NULL,\r\n",
                "    startTime DATETIME NOT NULL,\r\n",
                "    endTime DATETIME NOT NULL,\r\n",
                "    roomID INT NOT NULL,\r\n",
                "    topicID INT NOT NULL,\r\n",
                "    FOREIGN KEY (roomID) REFERENCES fp_rooms (roomID),\r\n",
                "    FOREIGN KEY (topicID) REFERENCES fp_topics (topicID)\r\n",
                ");\r\n",
                "\r\n",
                "--sesion attendance table\r\n",
                "CREATE TABLE fp_attendance (\r\n",
                "    attendanceID INT IDENTITY(1,1) PRIMARY KEY,\r\n",
                "    sessionID INT NOT NULL,\r\n",
                "    atendeeID INT NOT NULL,\r\n",
                "    FOREIGN KEY (sessionID) REFERENCES fp_sessions (sessionID),\r\n",
                "    FOREIGN KEY (atendeeID) REFERENCES fp_attendees (atendeeID)\r\n",
                ");\r\n",
                "\r\n",
                "--session feedback table\r\n",
                "CREATE TABLE fp_feedback (\r\n",
                "    feedbackID INT IDENTITY(1,1) PRIMARY KEY,\r\n",
                "    sessionID INT NOT NULL,\r\n",
                "    atendeeID INT NOT NULL,\r\n",
                "    rating INT CHECK (rating BETWEEN 1 AND 5),\r\n",
                "    FOREIGN KEY (sessionID) REFERENCES fp_sessions (sessionID),\r\n",
                "    FOREIGN KEY (atendeeID) REFERENCES fp_attendees (atendeeID)\r\n",
                ");\r\n",
                "\r\n",
                "--session speakers table\r\n",
                "CREATE TABLE fp_sessionSpeakers (\r\n",
                "    sessionID INT NOT NULL,\r\n",
                "    speakerID INT NOT NULL,\r\n",
                "    PRIMARY KEY (sessionID, speakerID),\r\n",
                "    FOREIGN KEY (sessionID) REFERENCES fp_sessions (sessionID),\r\n",
                "    FOREIGN KEY (speakerID) REFERENCES fp_speakers (speakerID)\r\n",
                ");\r\n",
                "\r\n",
                "--audit log table\r\n",
                "CREATE TABLE fp_audit (\r\n",
                "    audit_id INT IDENTITY(1,1) PRIMARY KEY,\r\n",
                "    operationType VARCHAR(10) CHECK (operationType IN ('INSERT', 'UPDATE', 'DELETE')) NOT NULL,\r\n",
                "    tableName VARCHAR(255) NOT NULL,\r\n",
                "    operationTime DATETIME DEFAULT GETDATE(),\r\n",
                "    oldData NVARCHAR(MAX),\r\n",
                "    newData NVARCHAR(MAX)\r\n",
                ");\r\n",
                ""
            ],
            "metadata": {
                "azdata_cell_guid": "5a3a51c5-a83d-4cfa-a13c-b6b7ee673413",
                "language": "sql"
            },
            "outputs": [
                {
                    "output_type": "display_data",
                    "data": {
                        "text/html": "Commands completed successfully."
                    },
                    "metadata": {}
                },
                {
                    "output_type": "display_data",
                    "data": {
                        "text/html": "Total execution time: 00:00:00.027"
                    },
                    "metadata": {}
                }
            ],
            "execution_count": 46
        },
        {
            "cell_type": "markdown",
            "source": [
                "## **Insert Attendees:**"
            ],
            "metadata": {
                "language": "sql",
                "azdata_cell_guid": "2827655e-cd9e-46ad-92ea-14ac02e80660"
            },
            "attachments": {}
        },
        {
            "cell_type": "code",
            "source": [
                "INSERT INTO fp_attendees \r\n",
                "(firstName, lastName, email, phone, address, registrationDate, company, jobTitle, ticketType)\r\n",
                "VALUES\r\n",
                "('Alice', 'Johnson', 'alice.johnson@example.com', '1234567890', '123 Main St', '2024-01-01', 'Tech Corp', 'Developer', 'VIP'),\r\n",
                "('Bob', 'Smith', 'bob.smith@example.com', '1234567891', '456 Oak St', '2024-01-02', 'Innovate Inc.', 'Manager', 'General'),\r\n",
                "('Charlie', 'Brown', 'charlie.brown@example.com', '1234567892', '789 Pine St', '2024-01-03', 'GameWorks', 'Artist', 'Student'),\r\n",
                "('Diana', 'Prince', 'diana.prince@example.com', '1234567893', '101 Maple St', '2024-01-04', 'Amazon', 'HR Specialist', 'VIP'),\r\n",
                "('Eve', 'Taylor', 'eve.taylor@example.com', '1234567894', '202 Elm St', '2024-01-05', 'Tech Innovators', 'Engineer', 'Student'),\r\n",
                "('Frank', 'Harris', 'frank.harris@example.com', '1234567895', '303 Birch St', '2024-01-06', 'DataWorks', 'Data Analyst', 'General'),\r\n",
                "('Grace', 'Lee', 'grace.lee@example.com', '1234567896', '404 Cedar St', '2024-01-07', 'Creative Minds', 'Designer', 'VIP'),\r\n",
                "('Henry', 'Clark', 'henry.clark@example.com', '1234567897', '505 Spruce St', '2024-01-08', 'Future Vision', 'Consultant', 'General'),\r\n",
                "('Isabella', 'Martinez', 'isabella.martinez@example.com', '1234567898', '606 Willow St', '2024-01-09', 'NextGen Solutions', 'Marketer', 'Student'),\r\n",
                "('Jack', 'Wilson', 'jack.wilson@example.com', '1234567899', '707 Aspen St', '2024-01-10', 'Tech Innovators', 'Project Manager', 'VIP'),\r\n",
                "('Karen', 'Adams', 'karen.adams@example.com', '1234567810', '808 Sycamore St', '2024-01-11', 'BuildBetter', 'Architect', 'General'),\r\n",
                "('Liam', 'Anderson', 'liam.anderson@example.com', '1234567811', '909 Fir St', '2024-01-12', 'PlanIt', 'Planner', 'Student'),\r\n",
                "('Mia', 'Davis', 'mia.davis@example.com', '1234567812', '1010 Cypress St', '2024-01-13', 'Skyline', 'Urban Designer', 'VIP'),\r\n",
                "('Nathan', 'Evans', 'nathan.evans@example.com', '1234567813', '1111 Maple Ave', '2024-01-14', 'EcoWorld', 'Environmentalist', 'General'),\r\n",
                "('Olivia', 'Garcia', 'olivia.garcia@example.com', '1234567814', '1212 Chestnut Ave', '2024-01-15', 'GrowGreen', 'Agronomist', 'Student'),\r\n",
                "('Paul', 'Hernandez', 'paul.hernandez@example.com', '1234567815', '1313 Magnolia Ln', '2024-01-16', 'AgriTech', 'Biologist', 'General'),\r\n",
                "('Quinn', 'King', 'quinn.king@example.com', '1234567816', '1414 Redwood Dr', '2024-01-17', 'Redwood', 'Forester', 'VIP'),\r\n",
                "('Rachel', 'Lopez', 'rachel.lopez@example.com', '1234567817', '1515 Oak Ln', '2024-01-18', 'UrbanBuild', 'Engineer', 'Student'),\r\n",
                "('Samuel', 'Moore', 'samuel.moore@example.com', '1234567818', '1616 Birch Blvd', '2024-01-19', 'BuildIt', 'Construction Manager', 'General'),\r\n",
                "('Taylor', 'Nelson', 'taylor.nelson@example.com', '1234567819', '1717 Pine St', '2024-01-20', 'Tech Futures', 'Software Engineer', 'VIP');\r\n",
                ""
            ],
            "metadata": {
                "language": "sql",
                "azdata_cell_guid": "ef43d414-7262-411d-ae3a-bcf69ec530f7"
            },
            "outputs": [
{
    "output_type": "display_data",
    "data": {
        "text/html": "(20 rows affected)"
    },
    "metadata": {}
}, {
    "output_type": "display_data",
    "data": {
        "text/html": "Total execution time: 00:00:00.005"
    },
    "metadata": {}
}
],
            "execution_count": 48
        },
        {
            "cell_type": "markdown",
            "source": [
                "## **Insert sessions:**"
            ],
            "metadata": {
                "language": "sql",
                "azdata_cell_guid": "6f2c0dba-2eba-4c8e-9b0f-79e5237bf500"
            },
            "attachments": {}
        },
        {
            "cell_type": "code",
            "source": [
                "INSERT INTO fp_sessions \r\n",
                "(title, description, startTime, endTime, roomID, topicID)\r\n",
                "VALUES\r\n",
                "('Intro to AI', 'Exploring basics of artificial intelligence.', '2024-03-01 10:00:00', '2024-03-01 11:00:00', 1, 1),\r\n",
                "('Cloud Computing', 'Learn about cloud platforms and solutions.', '2024-03-01 12:00:00', '2024-03-01 13:30:00', 2, 2),\r\n",
                "('Game Design Fundamentals', 'An introduction to game design principles.', '2024-03-01 14:00:00', '2024-03-01 15:30:00', 3, 3),\r\n",
                "('Data Science 101', 'Getting started with data analysis.', '2024-03-01 16:00:00', '2024-03-01 17:00:00', 4, 4),\r\n",
                "('Building a Startup', 'Essential skills for entrepreneurs.', '2024-03-02 10:00:00', '2024-03-02 11:30:00', 5, 5),\r\n",
                "('Cybersecurity Trends', 'Protecting against modern threats.', '2024-03-02 12:00:00', '2024-03-02 13:30:00', 6, 6),\r\n",
                "('Virtual Reality Workshop', 'Hands-on VR experience.', '2024-03-02 14:00:00', '2024-03-02 15:30:00', 7, 7),\r\n",
                "('Advanced SQL Techniques', 'Boost your SQL skills.', '2024-03-02 16:00:00', '2024-03-02 17:30:00', 8, 8);\r\n",
                ""
            ],
            "metadata": {
                "language": "sql",
                "azdata_cell_guid": "0e2091c3-3f70-4e0c-b538-c11c6408b400"
            },
            "outputs": [
                {
                    "output_type": "display_data",
                    "data": {
                        "text/html": "(8 rows affected)"
                    },
                    "metadata": {}
                },
                {
                    "output_type": "error",
                    "evalue": "Msg 547, Level 16, State 0, Line 12\r\nThe INSERT statement conflicted with the FOREIGN KEY constraint \"FK__fp_sessio__topic__664B26CC\". The conflict occurred in database \"master\", table \"dbo.fp_topics\", column 'topicID'.",
                    "ename": "",
                    "traceback": []
                },
                {
                    "output_type": "display_data",
                    "data": {
                        "text/html": "The statement has been terminated."
                    },
                    "metadata": {}
                },
                {
                    "output_type": "display_data",
                    "data": {
                        "text/html": "Total execution time: 00:00:00.010"
                    },
                    "metadata": {}
                }
            ],
            "execution_count": 31
        },
        {
            "cell_type": "markdown",
            "source": [
                "## **Creating views:**"
            ],
            "metadata": {
                "language": "sql",
                "azdata_cell_guid": "c8aa7beb-1c45-451e-8fad-2505e2c28597"
            },
            "attachments": {}
        },
        {
            "cell_type": "code",
            "source": [
                "-- attendee info\r\n",
                "\r\n",
                "CREATE VIEW fp_view_attendee_contact AS\r\n",
                "SELECT \r\n",
                "    atendeeID,\r\n",
                "    firstName,\r\n",
                "    lastName,\r\n",
                "    email,\r\n",
                "    phone,\r\n",
                "    address,\r\n",
                "    registrationDate,\r\n",
                "    company,\r\n",
                "    jobTitle,\r\n",
                "    ticketType\r\n",
                "FROM fp_attendees;"
            ],
            "metadata": {
                "language": "sql",
                "azdata_cell_guid": "5528c123-062e-4626-a946-2cb16d6677f8"
            },
            "outputs": [
                {
                    "output_type": "error",
                    "evalue": "Msg 2714, Level 16, State 3, Procedure fp_view_attendee_contact, Line 4\r\nThere is already an object named 'fp_view_attendee_contact' in the database.",
                    "ename": "",
                    "traceback": []
                },
                {
                    "output_type": "display_data",
                    "data": {
                        "text/html": "Total execution time: 00:00:00.002"
                    },
                    "metadata": {}
                }
            ],
            "execution_count": 33
        },
        {
            "cell_type": "code",
            "source": [
                "-- ticket type counts\r\n",
                "CREATE VIEW fp_view_ticket_counts AS\r\n",
                "SELECT \r\n",
                "    ticketType,\r\n",
                "    COUNT(*) AS ticketCount\r\n",
                "FROM fp_attendees\r\n",
                "GROUP BY ticketType;\r\n",
                ""
            ],
            "metadata": {
                "language": "sql",
                "azdata_cell_guid": "e99a9308-9389-4488-a86c-cf032e8a12a2"
            },
            "outputs": [
                {
                    "output_type": "error",
                    "evalue": "Msg 2714, Level 16, State 3, Procedure fp_view_ticket_counts, Line 4\r\nThere is already an object named 'fp_view_ticket_counts' in the database.",
                    "ename": "",
                    "traceback": []
                },
                {
                    "output_type": "display_data",
                    "data": {
                        "text/html": "Total execution time: 00:00:00.002"
                    },
                    "metadata": {}
                }
            ],
            "execution_count": 34
        },
        {
            "cell_type": "code",
            "source": [
                "-- #session attendance counts\r\n",
                "\r\n",
                "CREATE VIEW fp_view_session_attendance AS\r\n",
                "SELECT \r\n",
                "    s.sessionID,\r\n",
                "    s.title AS sessionTitle,\r\n",
                "    COUNT(a.atendeeID) AS attendeeCount\r\n",
                "FROM fp_sessions s\r\n",
                "LEFT JOIN fp_attendance a ON s.sessionID = a.sessionID\r\n",
                "GROUP BY s.sessionID, s.title;\r\n",
                ""
            ],
            "metadata": {
                "language": "sql",
                "azdata_cell_guid": "4702c3ae-4bf0-4f47-add6-7cac124f652f"
            },
            "outputs": [
                {
                    "output_type": "error",
                    "evalue": "Msg 2714, Level 16, State 3, Procedure fp_view_session_attendance, Line 4\r\nThere is already an object named 'fp_view_session_attendance' in the database.",
                    "ename": "",
                    "traceback": []
                },
                {
                    "output_type": "display_data",
                    "data": {
                        "text/html": "Total execution time: 00:00:00.003"
                    },
                    "metadata": {}
                }
            ],
            "execution_count": 35
        },
        {
            "cell_type": "code",
            "source": [
                "-- session feedback\r\n",
                "\r\n",
                "CREATE VIEW fp_view_session_feedback AS\r\n",
                "SELECT \r\n",
                "    f.sessionID,\r\n",
                "    s.title AS sessionTitle,\r\n",
                "    f.atendeeID,\r\n",
                "    f.rating\r\n",
                "FROM fp_feedback f\r\n",
                "JOIN fp_sessions s ON f.sessionID = s.sessionID;\r\n",
                ""
            ],
            "metadata": {
                "language": "sql",
                "azdata_cell_guid": "3d6c1072-61e5-464b-9c46-cc1a2c386664"
            },
            "outputs": [
                {
                    "output_type": "error",
                    "evalue": "Msg 2714, Level 16, State 3, Procedure fp_view_session_feedback, Line 4\r\nThere is already an object named 'fp_view_session_feedback' in the database.",
                    "ename": "",
                    "traceback": []
                },
                {
                    "output_type": "display_data",
                    "data": {
                        "text/html": "Total execution time: 00:00:00.002"
                    },
                    "metadata": {}
                }
            ],
            "execution_count": 36
        },
        {
            "cell_type": "code",
            "source": [
                "-- attendees by topic\r\n",
                "\r\n",
                "CREATE VIEW fp_view_attendees_by_topic AS\r\n",
                "SELECT \r\n",
                "    t.name AS topicName,\r\n",
                "    COUNT(DISTINCT a.atendeeID) AS attendeeCount\r\n",
                "FROM fp_topics t\r\n",
                "JOIN fp_sessions s ON t.topicID = s.topicID\r\n",
                "JOIN fp_attendance a ON s.sessionID = a.sessionID\r\n",
                "GROUP BY t.name;\r\n",
                ""
            ],
            "metadata": {
                "language": "sql",
                "azdata_cell_guid": "83bb974e-b59a-4e76-b060-b334a1781035"
            },
            "outputs": [
                {
                    "output_type": "error",
                    "evalue": "Msg 2714, Level 16, State 3, Procedure fp_view_attendees_by_topic, Line 4\r\nThere is already an object named 'fp_view_attendees_by_topic' in the database.",
                    "ename": "",
                    "traceback": []
                },
                {
                    "output_type": "display_data",
                    "data": {
                        "text/html": "Total execution time: 00:00:00.002"
                    },
                    "metadata": {}
                }
            ],
            "execution_count": 37
        },
        {
            "cell_type": "code",
            "source": [
                "-- occupancy by attendance\r\n",
                "\r\n",
                "CREATE VIEW fp_view_session_occupancy AS\r\n",
                "SELECT \r\n",
                "    s.sessionID,\r\n",
                "    s.title AS sessionTitle,\r\n",
                "    r.roomNumber,\r\n",
                "    r.capacity,\r\n",
                "    COUNT(a.atendeeID) AS attendeeCount,\r\n",
                "    CAST(COUNT(a.atendeeID) AS FLOAT) / r.capacity AS occupancyPercentage\r\n",
                "FROM fp_sessions s\r\n",
                "JOIN fp_rooms r ON s.roomID = r.roomID\r\n",
                "LEFT JOIN fp_attendance a ON s.sessionID = a.sessionID\r\n",
                "GROUP BY s.sessionID, s.title, r.roomNumber, r.capacity;\r\n",
                ""
            ],
            "metadata": {
                "language": "sql",
                "azdata_cell_guid": "68e3616e-c51d-4df7-b958-d24820673bd0"
            },
            "outputs": [
                {
                    "output_type": "error",
                    "evalue": "Msg 2714, Level 16, State 3, Procedure fp_view_session_occupancy, Line 4\r\nThere is already an object named 'fp_view_session_occupancy' in the database.",
                    "ename": "",
                    "traceback": []
                },
                {
                    "output_type": "display_data",
                    "data": {
                        "text/html": "Total execution time: 00:00:00.003"
                    },
                    "metadata": {}
                }
            ],
            "execution_count": 38
        },
        {
            "cell_type": "markdown",
            "source": [
                "## **Procedures:**"
            ],
            "metadata": {
                "language": "sql",
                "azdata_cell_guid": "b86f779e-8f60-44f5-9ea6-e530e60b3af1"
            },
            "attachments": {}
        },
        {
            "cell_type": "code",
            "source": [
                "-- contact info by session\r\n",
                "\r\n",
                "CREATE PROCEDURE fp_get_attendee_contact_by_session\r\n",
                "    @SessionID INT\r\n",
                "AS\r\n",
                "BEGIN\r\n",
                "    SELECT \r\n",
                "        a.atendeeID,\r\n",
                "        a.firstName,\r\n",
                "        a.lastName,\r\n",
                "        a.email,\r\n",
                "        a.phone,\r\n",
                "        a.company,\r\n",
                "        a.jobTitle,\r\n",
                "        a.ticketType\r\n",
                "    FROM fp_attendance att\r\n",
                "    JOIN fp_attendees a ON att.atendeeID = a.atendeeID\r\n",
                "    WHERE att.sessionID = @SessionID;\r\n",
                "END;\r\n",
                ""
            ],
            "metadata": {
                "language": "sql",
                "azdata_cell_guid": "51f4a9ee-0b39-41ec-abd1-15567cb91a53"
            },
            "outputs": [
                {
                    "output_type": "display_data",
                    "data": {
                        "text/html": "Commands completed successfully."
                    },
                    "metadata": {}
                },
                {
                    "output_type": "display_data",
                    "data": {
                        "text/html": "Total execution time: 00:00:00.007"
                    },
                    "metadata": {}
                }
            ],
            "execution_count": 39
        },
        {
            "cell_type": "code",
            "source": [
                "-- speaker's total attendee\r\n",
                "\r\n",
                "CREATE PROCEDURE fp_get_total_attendees_by_speaker\r\n",
                "    @SpeakerID INT\r\n",
                "AS\r\n",
                "BEGIN\r\n",
                "    SELECT \r\n",
                "        sp.speakerID,\r\n",
                "        sp.firstName,\r\n",
                "        sp.lastName,\r\n",
                "        COUNT(DISTINCT att.atendeeID) AS totalAttendees\r\n",
                "    FROM fp_sessionSpeakers ss\r\n",
                "    JOIN fp_sessions s ON ss.sessionID = s.sessionID\r\n",
                "    JOIN fp_attendance att ON s.sessionID = att.sessionID\r\n",
                "    JOIN fp_speakers sp ON ss.speakerID = sp.speakerID\r\n",
                "    WHERE ss.speakerID = @SpeakerID\r\n",
                "    GROUP BY sp.speakerID, sp.firstName, sp.lastName;\r\n",
                "END;\r\n",
                ""
            ],
            "metadata": {
                "language": "sql",
                "azdata_cell_guid": "271fba18-2468-4349-a0d8-5497f2f99a83"
            },
            "outputs": [
                {
                    "output_type": "display_data",
                    "data": {
                        "text/html": "Commands completed successfully."
                    },
                    "metadata": {}
                },
                {
                    "output_type": "display_data",
                    "data": {
                        "text/html": "Total execution time: 00:00:00.005"
                    },
                    "metadata": {}
                }
            ],
            "execution_count": 40
        },
        {
            "cell_type": "code",
            "source": [
                "-- sessions by topic\r\n",
                "\r\n",
                "CREATE PROCEDURE fp_get_sessions_by_topic\r\n",
                "    @TopicID INT\r\n",
                "AS\r\n",
                "BEGIN\r\n",
                "    SELECT \r\n",
                "        s.sessionID,\r\n",
                "        s.title AS sessionTitle,\r\n",
                "        s.description,\r\n",
                "        s.startTime,\r\n",
                "        s.endTime,\r\n",
                "        sp.speakerID,\r\n",
                "        sp.firstName AS speakerFirstName,\r\n",
                "        sp.lastName AS speakerLastName\r\n",
                "    FROM fp_topics t\r\n",
                "    JOIN fp_sessions s ON t.topicID = s.topicID\r\n",
                "    JOIN fp_sessionSpeakers ss ON s.sessionID = ss.sessionID\r\n",
                "    JOIN fp_speakers sp ON ss.speakerID = sp.speakerID\r\n",
                "    WHERE t.topicID = @TopicID;\r\n",
                "END;\r\n",
                ""
            ],
            "metadata": {
                "language": "sql",
                "azdata_cell_guid": "4673bb00-49d3-4204-b82b-6e61ed4e703e"
            },
            "outputs": [
                {
                    "output_type": "display_data",
                    "data": {
                        "text/html": "Commands completed successfully."
                    },
                    "metadata": {}
                },
                {
                    "output_type": "display_data",
                    "data": {
                        "text/html": "Total execution time: 00:00:00.005"
                    },
                    "metadata": {}
                }
            ],
            "execution_count": 41
        },
        {
            "cell_type": "markdown",
            "source": [
                "## **Triggers:**"
            ],
            "metadata": {
                "language": "sql",
                "azdata_cell_guid": "86d09220-7736-4e79-920d-7ca30a9a13a9"
            },
            "attachments": {}
        },
        {
            "cell_type": "code",
            "source": [
                "CREATE OR ALTER TRIGGER fp_audit_sessions\r\n",
                "ON fp_sessions\r\n",
                "AFTER INSERT, UPDATE, DELETE\r\n",
                "AS\r\n",
                "BEGIN\r\n",
                "    SET NOCOUNT ON;\r\n",
                "\r\n",
                "    DECLARE @operationType NVARCHAR(10);\r\n",
                "    DECLARE @tableName NVARCHAR(255) = 'fp_sessions';\r\n",
                "    DECLARE @oldData NVARCHAR(MAX);\r\n",
                "    DECLARE @newData NVARCHAR(MAX);\r\n",
                "\r\n",
                "    --handle insert opeations\r\n",
                "    IF EXISTS (SELECT 1 FROM inserted) AND NOT EXISTS (SELECT 1 FROM deleted)\r\n",
                "    BEGIN\r\n",
                "        SET @operationType = 'INSERT';\r\n",
                "        SELECT @newData = (SELECT * FROM inserted FOR JSON AUTO);\r\n",
                "    END\r\n",
                "    --handle delete operations\r\n",
                "    ELSE IF NOT EXISTS (SELECT 1 FROM inserted) AND EXISTS (SELECT 1 FROM deleted)\r\n",
                "    BEGIN\r\n",
                "        SET @operationType = 'DELETE';\r\n",
                "        SELECT @oldData = (SELECT * FROM deleted FOR JSON AUTO);\r\n",
                "    END\r\n",
                "    --handle update operations\r\n",
                "    ELSE IF EXISTS (SELECT 1 FROM inserted) AND EXISTS (SELECT 1 FROM deleted)\r\n",
                "    BEGIN\r\n",
                "        SET @operationType = 'UPDATE';\r\n",
                "        SELECT @oldData = (SELECT * FROM deleted FOR JSON AUTO);\r\n",
                "        SELECT @newData = (SELECT * FROM inserted FOR JSON AUTO);\r\n",
                "    END\r\n",
                "\r\n",
                "    --insert into audit table\r\n",
                "    INSERT INTO fp_audit (operationType, tableName, oldData, newData)\r\n",
                "    VALUES (@operationType, @tableName, @oldData, @newData);\r\n",
                "END;\r\n",
                ""
            ],
            "metadata": {
                "language": "sql",
                "azdata_cell_guid": "5e032ee9-e16a-472c-b5f6-f9486dd2b3fe"
            },
            "outputs": [
                {
                    "output_type": "error",
                    "evalue": "Msg 8197, Level 16, State 4, Procedure fp_audit_sessions, Line 1\r\nThe object 'fp_sessions' does not exist or is invalid for this operation.",
                    "ename": "",
                    "traceback": []
                },
                {
                    "output_type": "display_data",
                    "data": {
                        "text/html": "Total execution time: 00:00:00.003"
                    },
                    "metadata": {}
                }
            ],
            "execution_count": 45
        },
        {
            "cell_type": "markdown",
            "source": [
                "## **Code box for testing:**"
            ],
            "metadata": {
                "language": "sql",
                "azdata_cell_guid": "519ce3fa-aefc-4c7c-8156-308378903780"
            },
            "attachments": {}
        },
        {
            "cell_type": "code",
            "source": [
                ""
            ],
            "metadata": {
                "language": "sql",
                "azdata_cell_guid": "8a3141df-d67d-4fab-b598-8d7313faa1c6"
            },
            "outputs": [],
            "execution_count": null
        },
        {
            "cell_type": "markdown",
            "source": [
                "## **Full reset of everything.**"
            ],
            "metadata": {
                "azdata_cell_guid": "a115ccbe-ce98-4265-816c-355a7ac3d41e"
            },
            "attachments": {}
        },
        {
            "cell_type": "code",
            "source": [
                "DROP TABLE IF EXISTS fp_feedback;\r\n",
                "DROP TABLE IF EXISTS fp_attendance;\r\n",
                "DROP TABLE IF EXISTS fp_sessionSpeakers;\r\n",
                "DROP TABLE IF EXISTS fp_sessions;\r\n",
                "DROP TABLE IF EXISTS fp_rooms;\r\n",
                "DROP TABLE IF EXISTS fp_topics;\r\n",
                "DROP TABLE IF EXISTS fp_speakers;\r\n",
                "DROP TABLE IF EXISTS fp_attendees;\r\n",
                "DROP TABLE IF EXISTS fp_audit;"
            ],
            "metadata": {
                "azdata_cell_guid": "44005915-83ed-47cc-871c-34c36bdefb79",
                "language": "sql"
            },
            "outputs": [
                {
                    "output_type": "display_data",
                    "data": {
                        "text/html": "Commands completed successfully."
                    },
                    "metadata": {}
                },
                {
                    "output_type": "display_data",
                    "data": {
                        "text/html": "Total execution time: 00:00:00.031"
                    },
                    "metadata": {}
                }
            ],
            "execution_count": 44
        }
    ]
}